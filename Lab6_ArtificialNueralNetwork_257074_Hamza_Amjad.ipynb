{
  "nbformat": 4,
  "nbformat_minor": 0,
  "metadata": {
    "colab": {
      "name": "Lab6_ArtificialNueralNetwork_257074_Hamza Amjad",
      "provenance": [],
      "collapsed_sections": []
    },
    "kernelspec": {
      "name": "python3",
      "display_name": "Python 3"
    },
    "language_info": {
      "name": "python"
    }
  },
  "cells": [
    {
      "cell_type": "code",
      "metadata": {
        "id": "5FftCJYnxWzW"
      },
      "source": [
        "# Libraries\n",
        "import torch\n",
        "import torchvision                                                       \n",
        "import torchvision.transforms as transforms\n",
        "import os.path\n",
        "\n",
        "# Dataset\n",
        "dataset_dir = os.path.join(os.path.expanduser(\"~\"), 'Datasets', 'FashionMNIST')\n",
        "\n",
        "# Load the dataset training data\n",
        "train_dataset = torchvision.datasets.FashionMNIST(root=dataset_dir,\n",
        "                                           train=True,\n",
        "                                           transform= None, #transforms.ToTensor(),\n",
        "                                           download=True)\n",
        "\n",
        "# Load the dataset test data\n",
        "test_dataset = torchvision.datasets.FashionMNIST(root=dataset_dir,\n",
        "                                                 transform= None, #transforms.ToTensor(),\n",
        "                                                 train=False)"
      ],
      "execution_count": 22,
      "outputs": []
    },
    {
      "cell_type": "code",
      "metadata": {
        "id": "Uqz0Y4e_PwIk"
      },
      "source": [
        "class DatasetTransformer(torch.utils.data.Dataset):\n",
        "\n",
        "    def __init__(self, base_dataset, transform):\n",
        "        self.base_dataset = base_dataset\n",
        "        self.transform = transform\n",
        "\n",
        "    def __getitem__(self, index):\n",
        "        img, target = self.base_dataset[index]\n",
        "        return self.transform(img), target\n",
        "\n",
        "    def __len__(self):\n",
        "        return len(self.base_dataset)\n",
        "\n",
        "train_dataset = DatasetTransformer(train_dataset, transforms.ToTensor())\n",
        "test_dataset  = DatasetTransformer(test_dataset , transforms.ToTensor())"
      ],
      "execution_count": 23,
      "outputs": []
    },
    {
      "cell_type": "code",
      "metadata": {
        "colab": {
          "base_uri": "https://localhost:8080/"
        },
        "id": "0M6Ob2FAQBSR",
        "outputId": "bea857d6-79c5-4fef-e57d-02d1530d85e6"
      },
      "source": [
        "# Dataloaders\n",
        "# Loading the dataset is using 4 CPU threads\n",
        "num_threads = 4    \n",
        "\n",
        "# Using minibatches of 128 samples \n",
        "batch_size  = 64   \n",
        "\n",
        "train_loader = torch.utils.data.DataLoader(dataset=train_dataset,\n",
        "                                          batch_size=batch_size,\n",
        "                                          shuffle=True,                # <-- this reshuffles the data at every epoch\n",
        "                                          num_workers=num_threads)\n",
        "\n",
        "test_loader = torch.utils.data.DataLoader(dataset=test_dataset,\n",
        "                                          batch_size=batch_size,\n",
        "                                          shuffle=False,\n",
        "                                          num_workers=num_threads)\n",
        "\n",
        "print(\"The train set contains {} images, in {} batches\".format(len(train_loader.dataset), len(train_loader)))\n",
        "print(\"The test set contains {} images, in {} batches\".format(len(test_loader.dataset), len(test_loader)))"
      ],
      "execution_count": 24,
      "outputs": [
        {
          "output_type": "stream",
          "text": [
            "The train set contains 60000 images, in 938 batches\n",
            "The test set contains 10000 images, in 157 batches\n"
          ],
          "name": "stdout"
        },
        {
          "output_type": "stream",
          "text": [
            "/usr/local/lib/python3.7/dist-packages/torch/utils/data/dataloader.py:477: UserWarning: This DataLoader will create 4 worker processes in total. Our suggested max number of worker in current system is 2, which is smaller than what this DataLoader is going to create. Please be aware that excessive worker creation might get DataLoader running slow or even freeze, lower the worker number to avoid potential slowness/freeze if necessary.\n",
            "  cpuset_checked))\n"
          ],
          "name": "stderr"
        }
      ]
    },
    {
      "cell_type": "code",
      "metadata": {
        "colab": {
          "base_uri": "https://localhost:8080/",
          "height": 179
        },
        "id": "aOsP7tWNQjc-",
        "outputId": "649c99fc-eaf9-4e16-ab44-b19beef753d1"
      },
      "source": [
        "import matplotlib.pyplot as plt\n",
        "import matplotlib.cm as cm\n",
        "\n",
        "nsamples=10\n",
        "classes_names = ['T-shirt/top', 'Trouser', 'Pullover', 'Dress', 'Coat', 'Sandal','Shirt', 'Sneaker', 'Bag', 'Ankle boot']\n",
        "imgs, labels = next(iter(train_loader))\n",
        "# print(imgs.shape, labels.shape)\n",
        "imgs = imgs.numpy()\n",
        "fig=plt.figure(figsize=(20,5),facecolor='w')\n",
        "for i in range(nsamples):\n",
        "    ax = plt.subplot(1,nsamples, i+1)\n",
        "    plt.imshow(imgs[i, 0, :, :], vmin=0, vmax=1.0, cmap=cm.gray)\n",
        "    ax.set_title(\"{}\".format(classes_names[labels[i]]), fontsize=15)\n",
        "    ax.get_xaxis().set_visible(False)\n",
        "    ax.get_yaxis().set_visible(False)\n",
        "\n",
        "plt.savefig('fashionMNIST_samples.png', bbox_inches='tight')\n",
        "plt.show()"
      ],
      "execution_count": 26,
      "outputs": [
        {
          "output_type": "stream",
          "text": [
            "/usr/local/lib/python3.7/dist-packages/torch/utils/data/dataloader.py:477: UserWarning: This DataLoader will create 4 worker processes in total. Our suggested max number of worker in current system is 2, which is smaller than what this DataLoader is going to create. Please be aware that excessive worker creation might get DataLoader running slow or even freeze, lower the worker number to avoid potential slowness/freeze if necessary.\n",
            "  cpuset_checked))\n"
          ],
          "name": "stderr"
        },
        {
          "output_type": "display_data",
          "data": {
            "image/png": "[encoded data removed]",
            "text/plain": [
              "<Figure size 1440x360 with 10 Axes>"
            ]
          },
          "metadata": {
            "tags": []
          }
        }
      ]
    },
    {
      "cell_type": "code",
      "metadata": {
        "colab": {
          "base_uri": "https://localhost:8080/"
        },
        "id": "6gXFSBzwU0Sj",
        "outputId": "004a0503-dd7d-4661-d25d-031b2f631fe6"
      },
      "source": [
        "import torch.nn as nn\n",
        "import torch.optim as optim\n",
        "\n",
        "def linear_relu(dim_in, dim_out):\n",
        "    return [nn.Linear(dim_in, dim_out),\n",
        "            nn.ReLU(inplace=True)]\n",
        "\n",
        "class Model(nn.Module):\n",
        "    def __init__(self, input_size, num_classes, l2_reg):\n",
        "        super(Model, self).__init__()\n",
        "        self.l2_reg = l2_reg\n",
        "        self.lin1 = nn.Linear(input_size, 256)\n",
        "        self.lin2 = nn.Linear(256, 256)\n",
        "        self.lin3 = nn.Linear(256, num_classes)\n",
        "\n",
        "\n",
        "    def penalty(self):\n",
        "        return self.l2_reg * (self.lin1.weight.norm(2) + self.lin2.weight.norm(2) + self.lin3.weight.norm(2))\n",
        "\n",
        "    def forward(self, x):\n",
        "        x = x.view(x.size()[0], -1)\n",
        "        x = nn.functional.relu(self.lin1(x))\n",
        "        x = nn.functional.relu(self.lin2(x))\n",
        "        y = self.lin3(x)\n",
        "        return y\n",
        "        \n",
        "model = Model(1*28*28, 10, 0.0001)\n",
        "\n",
        "use_gpu = torch.cuda.is_available()\n",
        "if use_gpu:\n",
        "    device = torch.device('cuda')\n",
        "else:\n",
        "    device = torch.device('cpu')\n",
        "\n",
        "\n",
        "model.to(device)"
      ],
      "execution_count": 30,
      "outputs": [
        {
          "output_type": "execute_result",
          "data": {
            "text/plain": [
              "Model(\n",
              "  (lin1): Linear(in_features=784, out_features=256, bias=True)\n",
              "  (lin2): Linear(in_features=256, out_features=256, bias=True)\n",
              "  (lin3): Linear(in_features=256, out_features=10, bias=True)\n",
              ")"
            ]
          },
          "metadata": {
            "tags": []
          },
          "execution_count": 30
        }
      ]
    },
    {
      "cell_type": "code",
      "metadata": {
        "id": "hOg7LafrU8mx",
        "colab": {
          "base_uri": "https://localhost:8080/"
        },
        "outputId": "5bac9054-b0e1-41fa-dd5a-1af2f3ad08dd"
      },
      "source": [
        "from torch.autograd import Variable\n",
        "f_loss = torch.nn.CrossEntropyLoss()\n",
        "f_loss(torch.Tensor([[-100, 10, 8]]), torch.LongTensor([1]))\n",
        "f_loss = torch.nn.CrossEntropyLoss()\n",
        "learning_rate = 0.001\n",
        "optimizer = torch.optim.Adam(model.parameters(), lr=learning_rate)\n",
        "\n",
        "num_epochs = 5\n",
        "count = 0\n",
        "# Lists for visualization of loss and accuracy \n",
        "loss_list = []\n",
        "iteration_list = []\n",
        "accuracy_list = []\n",
        "\n",
        "# Lists for knowing classwise accuracy\n",
        "predictions_list = []\n",
        "labels_list = []\n",
        "\n",
        "for epoch in range(num_epochs):\n",
        "    for imgs, labels in train_loader:\n",
        "        # Transfering images and labels to GPU if available\n",
        "        imgs, labels = imgs.to(device), labels.to(device)\n",
        "        train = imgs\n",
        "                \n",
        "        # Forward pass \n",
        "        outputs = model(train)\n",
        "        loss = f_loss(outputs, labels)\n",
        "        \n",
        "        # Initializing a gradient as 0 so there is no mixing of gradient among the batches\n",
        "        optimizer.zero_grad()\n",
        "        \n",
        "        #Propagating the error backward\n",
        "        loss.backward()\n",
        "        \n",
        "        # Optimizing the parameters\n",
        "        optimizer.step()  \n",
        "        count += 1\n",
        "    \n",
        "        # Testing the model\n",
        "    \n",
        "        if count % 50 == 0:\n",
        "            total = 0\n",
        "            correct = 0\n",
        "        \n",
        "            for imgs, labels in test_loader:\n",
        "                imgs, labels = imgs.to(device), labels.to(device)\n",
        "                labels_list.append(labels)\n",
        "                test = imgs\n",
        "                outputs = model(test)\n",
        "                predictions = torch.max(outputs, 1)[1].to(device)\n",
        "                predictions_list.append(predictions)\n",
        "                correct += (predictions == labels).sum()\n",
        "                total += len(labels)\n",
        "            \n",
        "            accuracy = correct * 100 / total\n",
        "            loss_list.append(loss.data)\n",
        "            iteration_list.append(count)\n",
        "            accuracy_list.append(accuracy)\n",
        "          \n",
        "    print(\"Iteration: {}, Loss: {}, Accuracy: {}%\".format(count, loss.data, accuracy))"
      ],
      "execution_count": 31,
      "outputs": [
        {
          "output_type": "stream",
          "text": [
            "/usr/local/lib/python3.7/dist-packages/torch/utils/data/dataloader.py:477: UserWarning: This DataLoader will create 4 worker processes in total. Our suggested max number of worker in current system is 2, which is smaller than what this DataLoader is going to create. Please be aware that excessive worker creation might get DataLoader running slow or even freeze, lower the worker number to avoid potential slowness/freeze if necessary.\n",
            "  cpuset_checked))\n"
          ],
          "name": "stderr"
        },
        {
          "output_type": "stream",
          "text": [
            "Iteration: 938, Loss: 0.2280733585357666, Accuracy: 84.12000274658203%\n",
            "Iteration: 1876, Loss: 0.17532502114772797, Accuracy: 86.11000061035156%\n",
            "Iteration: 2814, Loss: 0.35688844323158264, Accuracy: 87.25%\n",
            "Iteration: 3752, Loss: 0.1771361231803894, Accuracy: 86.93000030517578%\n",
            "Iteration: 4690, Loss: 0.47459903359413147, Accuracy: 87.87999725341797%\n"
          ],
          "name": "stdout"
        }
      ]
    },
    {
      "cell_type": "code",
      "metadata": {
        "id": "ZoVvbwv5PRw7"
      },
      "source": [
        "from itertools import chain \n",
        "\n",
        "predictions_l = [predictions_list[i].tolist() for i in range(len(predictions_list))]\n",
        "labels_l = [labels_list[i].tolist() for i in range(len(labels_list))]\n",
        "predictions_l = list(chain.from_iterable(predictions_l))\n",
        "labels_l = list(chain.from_iterable(labels_l))"
      ],
      "execution_count": 32,
      "outputs": []
    },
    {
      "cell_type": "code",
      "metadata": {
        "colab": {
          "base_uri": "https://localhost:8080/"
        },
        "id": "v-t2owhXPWD7",
        "outputId": "225075fc-50f7-44bc-f4bb-02de0b77fbb4"
      },
      "source": [
        "import sklearn.metrics as metrics\n",
        "from sklearn.metrics import confusion_matrix\n",
        "\n",
        "# Confusion Matrix\n",
        "confusion_matrix(labels_l, predictions_l)\n",
        "print(\"Classification report:\\n%s\\n\"\n",
        "      % (metrics.classification_report(labels_l, predictions_l)))"
      ],
      "execution_count": 33,
      "outputs": [
        {
          "output_type": "stream",
          "text": [
            "Classification report:\n",
            "              precision    recall  f1-score   support\n",
            "\n",
            "           0       0.80      0.81      0.81     93000\n",
            "           1       0.98      0.96      0.97     93000\n",
            "           2       0.76      0.74      0.75     93000\n",
            "           3       0.85      0.88      0.86     93000\n",
            "           4       0.73      0.79      0.75     93000\n",
            "           5       0.96      0.94      0.95     93000\n",
            "           6       0.66      0.60      0.63     93000\n",
            "           7       0.92      0.94      0.93     93000\n",
            "           8       0.96      0.96      0.96     93000\n",
            "           9       0.94      0.95      0.94     93000\n",
            "\n",
            "    accuracy                           0.86    930000\n",
            "   macro avg       0.86      0.86      0.86    930000\n",
            "weighted avg       0.86      0.86      0.86    930000\n",
            "\n",
            "\n"
          ],
          "name": "stdout"
        }
      ]
    },
    {
      "cell_type": "code",
      "metadata": {
        "id": "Fds7ocDRhS73",
        "colab": {
          "base_uri": "https://localhost:8080/",
          "height": 296
        },
        "outputId": "c4883c99-6135-423f-a17f-f9c985787e85"
      },
      "source": [
        "# Plotting\n",
        "plt.plot(iteration_list, loss_list)\n",
        "plt.xlabel(\"num_epochs\")\n",
        "plt.ylabel(\"Loss\")\n",
        "plt.title(\"Loss vs num_epochs\")\n",
        "plt.show()"
      ],
      "execution_count": 36,
      "outputs": [
        {
          "output_type": "display_data",
          "data": {
            "image/png": "[encoded data removed]",
            "text/plain": [
              "<Figure size 432x288 with 1 Axes>"
            ]
          },
          "metadata": {
            "tags": [],
            "needs_background": "light"
          }
        }
      ]
    }
  ]
}